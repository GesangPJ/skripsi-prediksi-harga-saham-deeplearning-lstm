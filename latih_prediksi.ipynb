{
 "cells": [
  {
   "cell_type": "code",
   "execution_count": null,
   "metadata": {},
   "outputs": [],
   "source": [
    "from tensorflow.keras.layers import LSTM\n",
    "from tensorflow.keras.callbacks import ModelCheckpoint, TensorBoard\n",
    "import os\n",
    "import pandas as pd\n",
    "from parameter import*\n",
    "from model_prediksi import*\n",
    "\n",
    "#Menentukan direktori\n",
    "if not os.path.isdir(\"/content/drive/MyDrive/saham/hasil\"):\n",
    "    os.mkdir(\"/content/drive/MyDrive/saham/hasil\")\n",
    "\n",
    "if not os.path.isdir(\"/content/drive/MyDrive/saham/logs\"):\n",
    "    os.mkdir(\"/content/drive/MyDrive/saham/logs\")\n",
    "\n",
    "if not os.path.isdir(\"/content/drive/MyDrive/saham/data\"):\n",
    "    os.mkdir(\"/content/drive/MyDrive/saham/data\")\n",
    "\n",
    "data = muat_data(ticker, N_STEPS, scale=SCALE, split_by_date=SPLIT_BY_DATE, \n",
    "                shuffle=SHUFFLE, lookup_step=LOOKUP_STEP, test_size=TEST_SIZE, \n",
    "                feature_columns=FEATURE_COLUMNS)\n",
    "\n",
    "# save the dataframe\n",
    "data[\"xf\"].to_csv(ticker_data_filename)\n",
    "#model.summary() #melihat rangkuman model yang sudah dibuat\n",
    "\n",
    "model = membuat_model(N_STEPS, len(FEATURE_COLUMNS), loss=LOSS, units=UNITS, cell=CELL, n_layers=N_LAYERS,\n",
    "                    dropout=DROPOUT, optimizer=OPTIMIZER, bidirectional=BIDIRECTIONAL)\n",
    "checkpointer = ModelCheckpoint(os.path.join(\"hasil\", nama_model + \".h5\"), save_weights_only=True, save_best_only=True, verbose=1)\n",
    "tensorboard = TensorBoard(log_dir=os.path.join(\"logs\", nama_model))\n",
    "\n",
    "#Melatih model prediksi\n",
    "history = model.fit(data[\"X_latih\"], data[\"Z_latih\"],\n",
    "                    batch_size=BATCH_SIZE,\n",
    "                    epochs=EPOCHS,\n",
    "                    validation_data=(data[\"X_test\"], data[\"Z_test\"]),\n",
    "                    callbacks=[checkpointer, tensorboard],\n",
    "                    verbose=1)"
   ]
  }
 ],
 "metadata": {
  "language_info": {
   "name": "python"
  },
  "orig_nbformat": 4
 },
 "nbformat": 4,
 "nbformat_minor": 2
}
